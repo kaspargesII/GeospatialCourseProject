{
 "cells": [
  {
   "cell_type": "code",
   "execution_count": null,
   "id": "0907eb0c",
   "metadata": {},
   "outputs": [],
   "source": [
    "import geopandas as gpd\n",
    "import matplotlib.pyplot as plt\n",
    "\n",
    "import pandas as pd"
   ]
  },
  {
   "cell_type": "code",
   "execution_count": null,
   "id": "b20d29fd-8f6f-428a-9e99-b5c69e0a96f1",
   "metadata": {},
   "outputs": [],
   "source": [
    "forest_data = gpd.read_file(\"../Exam/Data_OSM/gis_osm_landuse_a_free_1.shp\")"
   ]
  },
  {
   "cell_type": "code",
   "execution_count": null,
   "id": "6e3a174a-409c-4805-bf26-3c597e784455",
   "metadata": {},
   "outputs": [],
   "source": [
    "natural = gpd.read_file(\"../Exam/Data_OSM/gis_osm_natural_free_1.shp\")"
   ]
  },
  {
   "cell_type": "code",
   "execution_count": null,
   "id": "3567b08f",
   "metadata": {},
   "outputs": [],
   "source": [
    "places = gpd.read_file(\"../Exam/Data_OSM/gis_osm_places_a_free_1.shp\")"
   ]
  },
  {
   "cell_type": "code",
   "execution_count": null,
   "id": "657d05f3",
   "metadata": {},
   "outputs": [],
   "source": [
    "water = gpd.read_file(\"../Exam/Data_OSM/gis_osm_water_a_free_1.shp\")"
   ]
  },
  {
   "cell_type": "code",
   "execution_count": null,
   "id": "3252a1b6",
   "metadata": {},
   "outputs": [],
   "source": [
    "waterways = gpd.read_file(\"../Exam/Data_OSM/gis_osm_waterways_free_1.shp\")"
   ]
  },
  {
   "cell_type": "code",
   "execution_count": null,
   "id": "4e7237c7",
   "metadata": {},
   "outputs": [],
   "source": [
    "\n",
    "forest_data[\"fclass\"].unique()"
   ]
  },
  {
   "cell_type": "code",
   "execution_count": null,
   "id": "170f48e0-f522-4033-b2f8-58ff2cdca95b",
   "metadata": {},
   "outputs": [],
   "source": [
    "fig, ax = plt.subplots(figsize=(25, 25))\n",
    "forest_data[forest_data['fclass'] == 'forest'].plot(ax=ax, color=\"green\", edgecolor='white', linewidth=0.2)\n",
    "forest_data[forest_data['fclass'] == 'nature_reserve'].plot(ax=ax, color=\"yellow\", edgecolor='white', linewidth=0.2)\n",
    "forest_data[forest_data['fclass'] == 'meadow'].plot(ax=ax, color=\"lightgreen\", edgecolor='white', linewidth=0.2)\n",
    "water[water['fclass'] == 'water'].plot(ax=ax, color=\"blue\", edgecolor='white', linewidth=0.2)\n",
    "waterways.plot(ax=ax, color=\"lightblue\", linewidth=0.2)\n",
    "\n",
    "plt.show()"
   ]
  },
  {
   "cell_type": "code",
   "execution_count": null,
   "id": "5fb967be",
   "metadata": {},
   "outputs": [],
   "source": [
    "protected_forest = forest_data[forest_data['fclass'] == 'nature_reserve']\n",
    "\n",
    "fig, ax = plt.subplots(figsize=(10, 10))\n",
    "protected_forest.plot(ax=ax, color='green', edgecolor='white', linewidth=0.2)\n",
    "\n",
    "plt.show()\n"
   ]
  },
  {
   "cell_type": "code",
   "execution_count": null,
   "id": "1ae54a55-fd7f-47ec-ae5b-44866ba72679",
   "metadata": {},
   "outputs": [],
   "source": [
    "# Calculate the total area of Denmark\n",
    "denmark_area = forest_data.geometry.unary_union.area\n",
    "\n",
    "# Calculate the area of each class in the forest_data\n",
    "class_areas = forest_data.groupby('fclass').geometry.apply(lambda x: x.unary_union.area)\n",
    "\n",
    "# Calculate the percentage area of each class\n",
    "percentage_areas = (class_areas / denmark_area) * 100\n",
    "\n",
    "# Print the percentage area of each class\n",
    "print(percentage_areas)\n"
   ]
  },
  {
   "cell_type": "code",
   "execution_count": null,
   "id": "d489fb8f",
   "metadata": {},
   "outputs": [],
   "source": [
    "import folium\n",
    "\n",
    "forest_copenhagen = forest_data[forest_data['fclass'] == 'forest']\n",
    "copenhagen_map = folium.Map(location=[55.6761, 12.5683], zoom_start=12)\n",
    "folium.GeoJson(forest_copenhagen).add_to(copenhagen_map)\n",
    "\n",
    "\n",
    "copenhagen_map\n"
   ]
  },
  {
   "cell_type": "code",
   "execution_count": null,
   "id": "e9e89d25",
   "metadata": {},
   "outputs": [],
   "source": []
  }
 ],
 "metadata": {
  "kernelspec": {
   "display_name": "Python 3 (ipykernel)",
   "language": "python",
   "name": "python3"
  },
  "language_info": {
   "codemirror_mode": {
    "name": "ipython",
    "version": 3
   },
   "file_extension": ".py",
   "mimetype": "text/x-python",
   "name": "python",
   "nbconvert_exporter": "python",
   "pygments_lexer": "ipython3",
   "version": "3.12.2"
  }
 },
 "nbformat": 4,
 "nbformat_minor": 5
}
